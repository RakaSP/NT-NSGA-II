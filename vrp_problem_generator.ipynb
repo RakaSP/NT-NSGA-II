{
 "cells": [
  {
   "cell_type": "markdown",
   "id": "6a8d54e3",
   "metadata": {},
   "source": [
    "# VRP Problem Generator\n",
    "Generate a CSV with **3 columns**: `id,lat,lon` where `id=0` indicates the **depot**.\n",
    "\n",
    "**How to use:**\n",
    "1. Run the **Parameters** cell to set up the generator.\n",
    "2. Run the **Generate** cell to create `vrp_nodes.csv` in the same folder.\n",
    "3. (Optional) Run the **Plot** cell to visualize the locations.\n",
    "        "
   ]
  },
  {
   "cell_type": "code",
   "execution_count": 96,
   "id": "8a842ae4",
   "metadata": {},
   "outputs": [],
   "source": [
    "import random\n",
    "\n",
    "# === Parameters ===\n",
    "NUM_CUSTOMERS = 78          # number of customer nodes (excludes depot)\n",
    "SEED = random.randint(1, 10000)\n",
    "LAT_RANGE = (-7.73444, -8.00750)  # (min_lat, max_lat)\n",
    "LON_RANGE = (110.20944, 110.51889)# (min_lon, max_lon)\n",
    "DEMAND = (1, 5)          # (min_demand, max_demand)\n",
    "\n",
    "# If you want to fix the depot location, set values below; otherwise keep as None\n",
    "DEPOT_LAT = None            # e.g., -7.7956\n",
    "DEPOT_LON = None            # e.g., 110.3695\n",
    "\n",
    "CSV_PATH = \"Problems/vrp_nodes_30.csv\"  # output file name"
   ]
  },
  {
   "cell_type": "code",
   "execution_count": 97,
   "id": "e71d1572",
   "metadata": {},
   "outputs": [
    {
     "name": "stdout",
     "output_type": "stream",
     "text": [
      "Saved 79 rows to: D:\\Archive\\.projects\\NT-NSGA-II\\Problems\\vrp_nodes_30.csv\n"
     ]
    },
    {
     "data": {
      "application/vnd.microsoft.datawrangler.viewer.v0+json": {
       "columns": [
        {
         "name": "index",
         "rawType": "int64",
         "type": "integer"
        },
        {
         "name": "id",
         "rawType": "int64",
         "type": "integer"
        },
        {
         "name": "lat",
         "rawType": "float64",
         "type": "float"
        },
        {
         "name": "lon",
         "rawType": "float64",
         "type": "float"
        },
        {
         "name": "demand",
         "rawType": "float64",
         "type": "float"
        }
       ],
       "ref": "c1d9f66d-3678-4e80-b340-f92874416498",
       "rows": [
        [
         "0",
         "0",
         "-7.80522982901315",
         "110.4669633380332",
         null
        ],
        [
         "1",
         "1",
         "-7.937961535427315",
         "110.34068319778305",
         "5.0"
        ],
        [
         "2",
         "2",
         "-7.811146338129123",
         "110.49707747066543",
         "5.0"
        ],
        [
         "3",
         "3",
         "-7.851753875823235",
         "110.27500561573386",
         "4.0"
        ],
        [
         "4",
         "4",
         "-7.834285341852889",
         "110.46054421319778",
         "3.0"
        ]
       ],
       "shape": {
        "columns": 4,
        "rows": 5
       }
      },
      "text/html": [
       "<div>\n",
       "<style scoped>\n",
       "    .dataframe tbody tr th:only-of-type {\n",
       "        vertical-align: middle;\n",
       "    }\n",
       "\n",
       "    .dataframe tbody tr th {\n",
       "        vertical-align: top;\n",
       "    }\n",
       "\n",
       "    .dataframe thead th {\n",
       "        text-align: right;\n",
       "    }\n",
       "</style>\n",
       "<table border=\"1\" class=\"dataframe\">\n",
       "  <thead>\n",
       "    <tr style=\"text-align: right;\">\n",
       "      <th></th>\n",
       "      <th>id</th>\n",
       "      <th>lat</th>\n",
       "      <th>lon</th>\n",
       "      <th>demand</th>\n",
       "    </tr>\n",
       "  </thead>\n",
       "  <tbody>\n",
       "    <tr>\n",
       "      <th>0</th>\n",
       "      <td>0</td>\n",
       "      <td>-7.805230</td>\n",
       "      <td>110.466963</td>\n",
       "      <td>NaN</td>\n",
       "    </tr>\n",
       "    <tr>\n",
       "      <th>1</th>\n",
       "      <td>1</td>\n",
       "      <td>-7.937962</td>\n",
       "      <td>110.340683</td>\n",
       "      <td>5.0</td>\n",
       "    </tr>\n",
       "    <tr>\n",
       "      <th>2</th>\n",
       "      <td>2</td>\n",
       "      <td>-7.811146</td>\n",
       "      <td>110.497077</td>\n",
       "      <td>5.0</td>\n",
       "    </tr>\n",
       "    <tr>\n",
       "      <th>3</th>\n",
       "      <td>3</td>\n",
       "      <td>-7.851754</td>\n",
       "      <td>110.275006</td>\n",
       "      <td>4.0</td>\n",
       "    </tr>\n",
       "    <tr>\n",
       "      <th>4</th>\n",
       "      <td>4</td>\n",
       "      <td>-7.834285</td>\n",
       "      <td>110.460544</td>\n",
       "      <td>3.0</td>\n",
       "    </tr>\n",
       "  </tbody>\n",
       "</table>\n",
       "</div>"
      ],
      "text/plain": [
       "   id       lat         lon  demand\n",
       "0   0 -7.805230  110.466963     NaN\n",
       "1   1 -7.937962  110.340683     5.0\n",
       "2   2 -7.811146  110.497077     5.0\n",
       "3   3 -7.851754  110.275006     4.0\n",
       "4   4 -7.834285  110.460544     3.0"
      ]
     },
     "execution_count": 97,
     "metadata": {},
     "output_type": "execute_result"
    }
   ],
   "source": [
    "# === Generate ===\n",
    "\n",
    "import pandas as pd\n",
    "from pathlib import Path\n",
    "\n",
    "random.seed(SEED)\n",
    "\n",
    "lat_min, lat_max = LAT_RANGE\n",
    "lon_min, lon_max = LON_RANGE\n",
    "demand_min, demand_max = DEMAND\n",
    "\n",
    "# Create depot (id=0)\n",
    "if DEPOT_LAT is None:\n",
    "    depot_lat = random.uniform(lat_min, lat_max)\n",
    "else:\n",
    "    depot_lat = float(DEPOT_LAT)\n",
    "\n",
    "if DEPOT_LON is None:\n",
    "    depot_lon = random.uniform(lon_min, lon_max)\n",
    "else:\n",
    "    depot_lon = float(DEPOT_LON)\n",
    "\n",
    "rows = []\n",
    "rows.append({'id': 0, 'lat': depot_lat, 'lon': depot_lon})\n",
    "\n",
    "# Create customers (id=1..N)\n",
    "for cid in range(1, NUM_CUSTOMERS + 1):\n",
    "    lat = random.uniform(lat_min, lat_max)\n",
    "    lon = random.uniform(lon_min, lon_max)\n",
    "    demand = random.randint(demand_min, demand_max)\n",
    "    rows.append({'id': cid, 'lat': lat, 'lon': lon, 'demand': demand})\n",
    "\n",
    "df = pd.DataFrame(rows, columns=['id','lat','lon','demand'])\n",
    "\n",
    "out_path = Path(CSV_PATH).resolve()\n",
    "df.to_csv(out_path, index=False)\n",
    "print(f\"Saved {len(df)} rows to: {out_path}\")\n",
    "df.head()\n"
   ]
  },
  {
   "cell_type": "code",
   "execution_count": 98,
   "id": "86657c99",
   "metadata": {},
   "outputs": [
    {
     "data": {
      "image/png": "[encoded data removed]",
      "text/plain": [
       "<Figure size 640x480 with 1 Axes>"
      ]
     },
     "metadata": {},
     "output_type": "display_data"
    }
   ],
   "source": [
    "# === Plot (optional) ===\n",
    "import pandas as pd\n",
    "import matplotlib.pyplot as plt\n",
    "\n",
    "df = pd.read_csv(CSV_PATH)\n",
    "\n",
    "plt.figure()\n",
    "depot = df[df['id'] == 0]\n",
    "customers = df[df['id'] != 0]\n",
    "\n",
    "plt.scatter(customers['lon'], customers['lat'], label='customers')\n",
    "plt.scatter(depot['lon'], depot['lat'], marker='s', s=100, label='depot')\n",
    "plt.xlabel('Longitude')\n",
    "plt.ylabel('Latitude')\n",
    "plt.title('VRP Nodes')\n",
    "plt.legend()\n",
    "plt.show()\n"
   ]
  }
 ],
 "metadata": {
  "kernelspec": {
   "display_name": "pyenv",
   "language": "python",
   "name": "python3"
  },
  "language_info": {
   "codemirror_mode": {
    "name": "ipython",
    "version": 3
   },
   "file_extension": ".py",
   "mimetype": "text/x-python",
   "name": "python",
   "nbconvert_exporter": "python",
   "pygments_lexer": "ipython3",
   "version": "3.12.3"
  }
 },
 "nbformat": 4,
 "nbformat_minor": 5
}
