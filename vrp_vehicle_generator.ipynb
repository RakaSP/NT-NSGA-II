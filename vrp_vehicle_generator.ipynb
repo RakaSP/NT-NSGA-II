{
 "cells": [
  {
   "cell_type": "markdown",
   "id": "7452440d",
   "metadata": {},
   "source": [
    "# VRP Vehicle Generator\n",
    "Generate a CSV with **5 columns**: `id,vehicle_name,capacity,initial_cost,distance_cost`.\n",
    "\n",
    "**How to use:**\n",
    "1. Run the **Parameters** cell to set up the generator.\n",
    "2. Run the **Generate** cell to create `vrp_vehicles.csv` in the same folder.\n",
    "        "
   ]
  },
  {
   "cell_type": "code",
   "execution_count": 1,
   "id": "a47ab76c",
   "metadata": {},
   "outputs": [],
   "source": [
    "# === Parameters ===\n",
    "NUM_VEHICLES = 1               # total vehicles to generate\n",
    "SEED = 42                      # random seed\n",
    "\n",
    "# Capacity range (inclusive)\n",
    "CAPACITY_MIN = 10000\n",
    "CAPACITY_MAX = 10000\n",
    "\n",
    "# Cost ranges (you can change to match your BRP cost model)\n",
    "INITIAL_COST_RANGE = (75_000, 100_000)   # e.g., IDR\n",
    "DIST_COST_RANGE = (600, 800)             # cost per distance unit\n",
    "\n",
    "NAME_PREFIX = \"Truck\"          # e.g., 'Truck', 'Van', etc.\n",
    "\n",
    "CSV_PATH = \"Problems/vrp_vehicles.csv\"  # output file name"
   ]
  },
  {
   "cell_type": "code",
   "execution_count": 2,
   "id": "9bf30379",
   "metadata": {},
   "outputs": [
    {
     "name": "stdout",
     "output_type": "stream",
     "text": [
      "Saved 1 rows to: D:\\Archive\\.projects\\NT-NSGA-II\\Problems\\vrp_vehicles.csv\n"
     ]
    },
    {
     "data": {
      "application/vnd.microsoft.datawrangler.viewer.v0+json": {
       "columns": [
        {
         "name": "index",
         "rawType": "int64",
         "type": "integer"
        },
        {
         "name": "id",
         "rawType": "int64",
         "type": "integer"
        },
        {
         "name": "vehicle_name",
         "rawType": "object",
         "type": "string"
        },
        {
         "name": "max_capacity",
         "rawType": "int64",
         "type": "integer"
        },
        {
         "name": "initial_cost",
         "rawType": "int64",
         "type": "integer"
        },
        {
         "name": "distance_cost",
         "rawType": "int64",
         "type": "integer"
        }
       ],
       "ref": "5bebbe1c-ffdb-4703-95ee-c2528ed31bb8",
       "rows": [
        [
         "0",
         "1",
         "Truck-01",
         "10000",
         "75819",
         "789"
        ]
       ],
       "shape": {
        "columns": 5,
        "rows": 1
       }
      },
      "text/html": [
       "<div>\n",
       "<style scoped>\n",
       "    .dataframe tbody tr th:only-of-type {\n",
       "        vertical-align: middle;\n",
       "    }\n",
       "\n",
       "    .dataframe tbody tr th {\n",
       "        vertical-align: top;\n",
       "    }\n",
       "\n",
       "    .dataframe thead th {\n",
       "        text-align: right;\n",
       "    }\n",
       "</style>\n",
       "<table border=\"1\" class=\"dataframe\">\n",
       "  <thead>\n",
       "    <tr style=\"text-align: right;\">\n",
       "      <th></th>\n",
       "      <th>id</th>\n",
       "      <th>vehicle_name</th>\n",
       "      <th>max_capacity</th>\n",
       "      <th>initial_cost</th>\n",
       "      <th>distance_cost</th>\n",
       "    </tr>\n",
       "  </thead>\n",
       "  <tbody>\n",
       "    <tr>\n",
       "      <th>0</th>\n",
       "      <td>1</td>\n",
       "      <td>Truck-01</td>\n",
       "      <td>10000</td>\n",
       "      <td>75819</td>\n",
       "      <td>789</td>\n",
       "    </tr>\n",
       "  </tbody>\n",
       "</table>\n",
       "</div>"
      ],
      "text/plain": [
       "   id vehicle_name  max_capacity  initial_cost  distance_cost\n",
       "0   1     Truck-01         10000         75819            789"
      ]
     },
     "execution_count": 2,
     "metadata": {},
     "output_type": "execute_result"
    }
   ],
   "source": [
    "# === Generate ===\n",
    "import random\n",
    "import pandas as pd\n",
    "from pathlib import Path\n",
    "\n",
    "random.seed(SEED)\n",
    "\n",
    "def rand_int_range(a, b):\n",
    "    return random.randint(int(a), int(b))\n",
    "\n",
    "rows = []\n",
    "for vid in range(1, NUM_VEHICLES + 1):\n",
    "    vehicle_name = f\"{NAME_PREFIX}-{vid:02d}\"\n",
    "    max_capacity = rand_int_range(CAPACITY_MIN, CAPACITY_MAX)\n",
    "    initial_cost = rand_int_range(*INITIAL_COST_RANGE)\n",
    "    distance_cost = rand_int_range(*DIST_COST_RANGE)\n",
    "    rows.append({\n",
    "        'id': vid,\n",
    "        'vehicle_name': vehicle_name,\n",
    "        'max_capacity': max_capacity,\n",
    "        'initial_cost': initial_cost,\n",
    "        'distance_cost': distance_cost\n",
    "    })\n",
    "\n",
    "df = pd.DataFrame(rows, columns=['id','vehicle_name','max_capacity','initial_cost','distance_cost'])\n",
    "\n",
    "out_path = Path(CSV_PATH).resolve()\n",
    "df.to_csv(out_path, index=False)\n",
    "print(f\"Saved {len(df)} rows to: {out_path}\")\n",
    "df.head()\n"
   ]
  }
 ],
 "metadata": {
  "kernelspec": {
   "display_name": "pyenv",
   "language": "python",
   "name": "python3"
  },
  "language_info": {
   "codemirror_mode": {
    "name": "ipython",
    "version": 3
   },
   "file_extension": ".py",
   "mimetype": "text/x-python",
   "name": "python",
   "nbconvert_exporter": "python",
   "pygments_lexer": "ipython3",
   "version": "3.11.7"
  }
 },
 "nbformat": 4,
 "nbformat_minor": 5
}
